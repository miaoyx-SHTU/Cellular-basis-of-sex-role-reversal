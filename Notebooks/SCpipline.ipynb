{
 "cells": [
  {
   "cell_type": "code",
   "execution_count": 253,
   "id": "5005099d",
   "metadata": {
    "ExecuteTime": {
     "end_time": "2025-04-02T06:31:05.385132Z",
     "start_time": "2025-04-02T06:31:05.350Z"
    }
   },
   "outputs": [],
   "source": [
    "library(Seurat)#main analyze package\n",
    "library(ggplot2)\n",
    "library(dplyr)\n",
    "library(data.table)\n",
    "library(patchwork)"
   ]
  },
  {
   "cell_type": "code",
   "execution_count": null,
   "id": "ceeb3a8b",
   "metadata": {},
   "outputs": [],
   "source": [
    "#load 10x\n",
    "rawdatalf1 <- Read10X(data.dir = \"F:/singlecell/lesson8/BP1/\")\n",
    "rawdatalf2 <- Read10X(data.dir = \"F:/singlecell/lesson8/BP2/\")\n",
    "# Create Seurat Object from matrix \n",
    "lf1 <- CreateSeuratObject(rawdatalf1,\n",
    "                          min.cells = 1,\n",
    "                          min.features = 0,\n",
    "                          project = '10x_lf1')\n",
    "\n",
    "lf2 <- CreateSeuratObject(rawdatalf2,\n",
    "                          min.cells = 1,\n",
    "                          min.features = 0,\n",
    "                          project = '10x_lf2')\n",
    "\n",
    "# add metadata original identity\n",
    "lf1@meta.data$orig.ident <- \"lf1\"\n",
    "lf2@meta.data$orig.ident <- \"lf2\"\n",
    "\n",
    "#merge Seurat Object in different batch\n",
    "lf <- merge(lf1,\n",
    "            y = lf2,\n",
    "            add.cell.ids = c(\"lf1.\",\"lf2.\"),\n",
    "            project = \"10x_lf\")\n",
    "saveRDS(bp,file = \"./pipline_reanalyze/raw_bp_rna.rds\")\n",
    "\n",
    "#load 10x\n",
    "rawdataef1 <- Read10X(data.dir = \"F:/singlecell/lesson8/ZQ1/\")\n",
    "\n",
    "rawdataef2 <- Read10X(data.dir = \"F:/singlecell/lesson8/ZQ2/\")\n",
    "\n",
    "# Create Seurat Object from matrix \n",
    "ef1 <- CreateSeuratObject(rawdataef1,\n",
    "                          min.cells = 1,\n",
    "                          min.features = 0,\n",
    "                          project = '10x_ef1')\n",
    "\n",
    "ef2 <- CreateSeuratObject(rawdataef2,\n",
    "                          min.cells = 1,\n",
    "                          min.features = 0,\n",
    "                          project = '10x_ef2')\n",
    "\n",
    "# add metadata original identity\n",
    "ef1@meta.data$orig.ident <- \"ef1\"\n",
    "ef2@meta.data$orig.ident <- \"ef2\"\n",
    "\n",
    "#merge Seurat Object in different batch\n",
    "ef <- merge(ef1,\n",
    "            y = ef2,\n",
    "            add.cell.ids = c(\"ef1.\",\"ef2.\"),\n",
    "            project = \"10x_ef\")\n",
    "saveRDS(zq,file = \"./pipline_reanalyze/raw_zq_rna.rds\")\n",
    "\n",
    "#load 10x\n",
    "rawdataep1 <- Read10X(data.dir = \"F:/singlecell/lesson8/HY1/\")\n",
    "\n",
    "rawdataep2 <- Read10X(data.dir = \"F:/singlecell/lesson8/HY2/\")\n",
    "\n",
    "# Create Seurat Object from matrix \n",
    "ep1 <- CreateSeuratObject(rawdataep1,\n",
    "                          min.cells = 1,\n",
    "                          min.features = 0,\n",
    "                          project = '10x_ep1')\n",
    "\n",
    "ep2 <- CreateSeuratObject(rawdataep2,\n",
    "                          min.cells = 1,\n",
    "                          min.features = 0,\n",
    "                          project = '10x_ep2')\n",
    "\n",
    "# add metadata original identity\n",
    "ep1@meta.data$orig.ident <- \"ep1\"\n",
    "ep2@meta.data$orig.ident <- \"ep2\"\n",
    "\n",
    "#merge Seurat Object in different batch\n",
    "ep <- merge(ep1,\n",
    "            y = ep2,\n",
    "            add.cell.ids = c(\"ep1.\",\"ep2.\"),\n",
    "            project = \"10x_ep\")\n",
    "saveRDS(hy,file = \"./pipline_reanalyze/raw_hy_rna.rds\")\n",
    "\n",
    "#load 10x(bf)\n",
    "rawdatabf <- Read10X(data.dir = \"F:/singlecell/lesson8/new_seahorse/Male_filtered_feature_bc_matrix/\")\n",
    "\n",
    "# Create Seurat Object from matrix \n",
    "bf <- CreateSeuratObject(rawdatabf,\n",
    "                         min.cells = 1,\n",
    "                         min.features = 0,\n",
    "                         project = '10x_bf')\n",
    "# add metadata original identity\n",
    "bf@meta.data$orig.ident <- \"bf\"\n",
    "\n",
    "#load 10x(mf)\n",
    "rawdatamf <- Read10X(data.dir = \"F:/singlecell/lesson8/new_seahorse/3m_filtered_feature_bc_matrix/\")\n",
    "\n",
    "# Create Seurat Object from matrix \n",
    "mf <- CreateSeuratObject(rawdatamf,\n",
    "                         min.cells = 1,\n",
    "                         min.features = 0,\n",
    "                         project = '10x_mf')\n",
    "# add metadata original identity\n",
    "mf@meta.data$orig.ident <- \"mf\"\n",
    "\n",
    "#load 10x(mp)\n",
    "rawdatamp <- Read10X(data.dir = \"F:/singlecell/lesson8/new_seahorse/p2_filtered_feature_bc_matrix/\")\n",
    "\n",
    "# Create Seurat Object from matrix \n",
    "mp <- CreateSeuratObject(rawdatamp,\n",
    "                         min.cells = 1,\n",
    "                         min.features = 0,\n",
    "                         project = '10x_mp')\n",
    "# add metadata original identity\n",
    "mp@meta.data$orig.ident <- \"mp\"\n",
    "\n",
    "#load 10x(lp)\n",
    "rawdatalp <- Read10X(data.dir = \"F:/singlecell/lesson8/new_seahorse/p3_filtered_feature_bc_matrix/\")\n",
    "\n",
    "# Create Seurat Object from matrix \n",
    "lp <- CreateSeuratObject(rawdatalp,\n",
    "                         min.cells = 1,\n",
    "                         min.features = 0,\n",
    "                         project = '10x_lp')\n",
    "# add metadata original identity\n",
    "lp@meta.data$orig.ident <- \"lp\"\n",
    "# add original identity in to metadata\n",
    "lf1 <- lf[ ,lf@meta.data$orig.ident == 'lf1']\n",
    "lf2 <- lf[ ,lf@meta.data$orig.ident == 'lf2']\n",
    "\n",
    "ep1 <- ep[ ,ep@meta.data$orig.ident == 'ep1']\n",
    "ep2 <- ep[ ,ep@meta.data$orig.ident == 'ep2']\n",
    "\n",
    "ef1 <- ef[ ,ef@meta.data$orig.ident == 'ef1']\n",
    "ef2 <- ef[ ,ef@meta.data$orig.ident == 'ef2']\n",
    "\n",
    "bf <- bf[ ,bf@meta.data$orig.ident == 'bf']\n",
    "mf <- mf[ ,mf@meta.data$orig.ident == 'mf']\n",
    "mp <- mp[ ,mp@meta.data$orig.ident == 'mp']\n",
    "lp <- lp[ ,lp@meta.data$orig.ident == 'lp']\n",
    "\n",
    "#add group information into metadata\n",
    "lf1@meta.data$group <- 'lf'\n",
    "lf2@meta.data$group <- 'lf'\n",
    "ep1@meta.data$group <- 'ep'\n",
    "ep2@meta.data$group <- 'ep'\n",
    "ef1@meta.data$group <- 'ef'\n",
    "ef2@meta.data$group <- 'ef'\n",
    "\n",
    "bf@meta.data$group <- 'bf'\n",
    "mf@meta.data$group <- 'mf'\n",
    "mp@meta.data$group <- 'mp'\n",
    "lp@meta.data$group <- 'lp'\n",
    "\n",
    "# merge Seurat Object\n",
    "allRNA  <- merge(lf1,\n",
    "                 y = c(lf2, ep1, ep2, ef1, ef2, bf, mf, mp, lp),\n",
    "                 #add.cell.ids = c(\"BP.\",\"HY.\",'ZQ.'),\n",
    "                 project = \"10x_RNA\")\n",
    "#add batch information into metadata\n",
    "allRNA@meta.data$batch = allRNA@meta.data$orig.ident\n",
    "#show statistics of metadata\n",
    "table(allRNA$group)\n",
    "table(allRNA$orig.ident)\n",
    "table(allRNA$batch)\n",
    "\n",
    "#save in to rds\n",
    "allRNA\n",
    "saveRDS(allRNA, ,file = \"./pipline_reanalyze/raw_all_rna_harmony.rds\")\n",
    "\n",
    "# general steps of scRNA-seq analyze in Seurat\n",
    "allRNA <- NormalizeData(allRNA, verbose = FALSE)\n",
    "\n",
    "allRNA <- FindVariableFeatures(object = allRNA, mean.cutoff = c(0.125,8), dispersion.cutoff = c(1,Inf))\n",
    "\n",
    "allRNA <- ScaleData(allRNA, verbose = FALSE)\n",
    "\n",
    "allRNA <- RunPCA(allRNA, verbose = FALSE, features = VariableFeatures(object = allRNA))\n",
    "\n",
    "ElbowPlot(allRNA)\n",
    "\n",
    "allRNA# just show Seurat Object in jupyter notebook(will not work in python script)\n",
    "\n",
    "# remove batch effect use Harmony\n",
    "allRNA <- RunHarmony(allRNA,\n",
    "                     \"batch\",\n",
    "                     plot_convergence = TRUE,\n",
    "                     #assay.use = \"SCT\", # use it when use SCTranform before\n",
    "                     assay.use = \"RNA\"\n",
    ")\n",
    "\n",
    "#use harmony in below analyze\n",
    "allRNA <- RunTSNE(allRNA, reduction = \"harmony\", verbose = FALSE, dims = 1:20)\n",
    "allRNA <- RunUMAP(allRNA, reduction = \"harmony\", verbose = FALSE, dims = 1:20)\n",
    "\n",
    "allRNA <- FindNeighbors(allRNA, reduction = \"harmony\", dims = 1:20)\n",
    "allRNA <- FindClusters(object = allRNA, resolution = 0.125)\n",
    "\n",
    "allRNA\n",
    "\n",
    "#draw T-SNE plot\n",
    "DimPlot(object =allRNA,\n",
    "        reduction = \"tsne\",\n",
    "        label = T,\n",
    ")\n",
    "DimPlot(object =allRNA,\n",
    "        group.by = 'group',\n",
    "        reduction = \"tsne\")\n",
    "DimPlot(object =allRNA,\n",
    "        group.by = 'batch',\n",
    "        reduction = \"tsne\")\n",
    "\n",
    "#draw UMAP plot\n",
    "DimPlot(object =allRNA,\n",
    "        reduction = \"umap\",\n",
    "        label = T,\n",
    ")\n",
    "DimPlot(object =allRNA,\n",
    "        group.by = 'group',\n",
    "        reduction = \"umap\")\n",
    "DimPlot(object =allRNA,\n",
    "        group.by = 'batch',\n",
    "        reduction = \"umap\")\n",
    "\n",
    "saveRDS(allRNA ,file = \"./pipline_reanalyze/all_rna_harmony.rds\")\n",
    "\n",
    "#find markers for each cluster\n",
    "all_markers <- FindAllMarkers(allRNA, only.pos = TRUE, min.pct = 0.25, logfc.threshold = 0.25)\n",
    "\n",
    "saveRDS(all_markers ,file = \"./pipline_reanalyze/all_rna_markers_harmony.rds\") \n",
    "\n",
    "\n",
    "FeaturePlot(allRNA, features = 'EVM0012341', \n",
    "            reduction = \"umap\", \n",
    "            label=T)\n",
    "#remove cls0(blood cells)\n",
    "#remove blood cells\n",
    "filtered_lf1 <- CreateSeuratObject(allRNA@assays$RNA[  ,allRNA@meta.data$seurat_clusters!=1 & allRNA@meta.data$orig.ident == 'lf1'],\n",
    "                                   min.cells = 1,\n",
    "                                   min.features = 0,\n",
    "                                   project = '10x_filtered_lf1')\n",
    "filtered_lf2 <- CreateSeuratObject(allRNA@assays$RNA[  ,allRNA@meta.data$seurat_clusters!=1 & allRNA@meta.data$orig.ident == 'lf2'],\n",
    "                                   min.cells = 1,\n",
    "                                   min.features = 0,\n",
    "                                   project = '10x_filtered_lf2')\n",
    "\n",
    "filtered_ep1 <- CreateSeuratObject(allRNA@assays$RNA[  ,allRNA@meta.data$seurat_clusters!=1 & allRNA@meta.data$orig.ident == 'ep1'],\n",
    "                                   min.cells = 1,\n",
    "                                   min.features = 0,\n",
    "                                   project = '10x_filtered_1')\n",
    "filtered_ep2 <- CreateSeuratObject(allRNA@assays$RNA[  ,allRNA@meta.data$seurat_clusters!=1 & allRNA@meta.data$orig.ident == 'ep2'],\n",
    "                                   min.cells = 1,\n",
    "                                   min.features = 0,\n",
    "                                   project = '10x_filtered_hy2')\n",
    "\n",
    "filtered_ef1 <- CreateSeuratObject(allRNA@assays$RNA[  ,allRNA@meta.data$seurat_clusters!=1 & allRNA@meta.data$orig.ident == 'ef1'],\n",
    "                                   min.cells = 1,\n",
    "                                   min.features = 0,\n",
    "                                   project = '10x_filtered_zq1')\n",
    "filtered_ef2 <- CreateSeuratObject(allRNA@assays$RNA[  ,allRNA@meta.data$seurat_clusters!=1 & allRNA@meta.data$orig.ident == 'ef2'],\n",
    "                                   min.cells = 1,\n",
    "                                   min.features = 0,\n",
    "                                   project = '10x_filtered_zq2')\n",
    "filtered_bf <- CreateSeuratObject(allRNA@assays$RNA[  ,allRNA@meta.data$seurat_clusters!=1 & allRNA@meta.data$orig.ident == 'bf'],\n",
    "                                   min.cells = 1,\n",
    "                                   min.features = 0,\n",
    "                                   project = '10x_filtered_bf')\n",
    "filtered_mf <- CreateSeuratObject(allRNA@assays$RNA[  ,allRNA@meta.data$seurat_clusters!=1 & allRNA@meta.data$orig.ident == 'mf'],\n",
    "                                  min.cells = 1,\n",
    "                                  min.features = 0,\n",
    "                                  project = '10x_filtered_mf')\n",
    "filtered_mp <- CreateSeuratObject(allRNA@assays$RNA[  ,allRNA@meta.data$seurat_clusters!=1 & allRNA@meta.data$orig.ident == 'mp'],\n",
    "                                  min.cells = 1,\n",
    "                                  min.features = 0,\n",
    "                                  project = '10x_filtered_mp')\n",
    "filtered_lp <- CreateSeuratObject(allRNA@assays$RNA[  ,allRNA@meta.data$seurat_clusters!=1 & allRNA@meta.data$orig.ident == 'lp'],\n",
    "                                  min.cells = 1,\n",
    "                                  min.features = 0,\n",
    "                                  project = '10x_filtered_lp')\n",
    "\n",
    "filtered_lf1@meta.data$orig.ident <- \"lf1\"\n",
    "filtered_lf2@meta.data$orig.ident <- \"lf2\"\n",
    "filtered_ep1@meta.data$orig.ident <- \"ep1\"\n",
    "filtered_ep2@meta.data$orig.ident <- \"ep2\"\n",
    "filtered_ef1@meta.data$orig.ident <- \"ef1\"\n",
    "filtered_ef2@meta.data$orig.ident <- \"ef2\"\n",
    "filtered_bf@meta.data$orig.ident <- \"bf\"\n",
    "filtered_mf@meta.data$orig.ident <- \"mf\"\n",
    "filtered_mp@meta.data$orig.ident <- \"mp\"\n",
    "filtered_lp@meta.data$orig.ident <- \"lp\"\n",
    "\n",
    "filtered_lf1@meta.data$group <- \"lf\"\n",
    "filtered_lf2@meta.data$group <- \"lf\"\n",
    "filtered_ep1@meta.data$group <- \"ep\"\n",
    "filtered_ep2@meta.data$group <- \"ep\"\n",
    "filtered_ef1@meta.data$group <- \"ef\"\n",
    "filtered_ef2@meta.data$group <- \"ef\"\n",
    "filtered_bf@meta.data$group <- \"bf\"\n",
    "filtered_mf@meta.data$group <- \"mf\"\n",
    "filtered_mp@meta.data$group <- \"mp\"\n",
    "filtered_lp@meta.data$group <- \"lp\"\n",
    "\n",
    "filtered_lf1@meta.data$batch =\n",
    "filtered_hy2@meta.data$batch <- \"B2\"\n",
    "filtered_bp1@meta.data$batch <- \"B1\"\n",
    "filtered_bp2@meta.data$batch <- \"B2\"\n",
    "filtered_zq1@meta.data$batch <- \"B1\"\n",
    "filtered_zq2@meta.data$batch <- \"B2\"\n",
    "\n",
    "filtered <- merge(filtered_lf1,\n",
    "                  y = c(filtered_lf2,filtered_ep1,filtered_ep2,filtered_ef1,filtered_ef2,filtered_bf, filtered_mf,filtered_mp, filtered_lp),\n",
    "                  project = \"10x_rna_filtered\")\n",
    "filtered@meta.data$batch=filtered@meta.data$orig.ident\n",
    "table(filtered$group)\n",
    "table(filtered$orig.ident)\n",
    "table(filtered$batch)\n",
    "\n",
    "filtered <- NormalizeData(filtered, verbose = FALSE)\n",
    "\n",
    "filtered <- FindVariableFeatures(object = filtered, mean.cutoff = c(0.125,8), dispersion.cutoff = c(1,Inf))\n",
    "\n",
    "filtered <- ScaleData(filtered, verbose = FALSE)\n",
    "\n",
    "filtered <- RunPCA(filtered, verbose = FALSE, features = VariableFeatures(object = filtered))\n",
    "\n",
    "ElbowPlot(filtered)\n",
    "filtered\n",
    "\n",
    "filtered <- RunHarmony(filtered,\n",
    "                       \"batch\",\n",
    "                       plot_convergence = TRUE,\n",
    "                       #assay.use = \"SCT\",\n",
    "                       assay.use = \"RNA\"\n",
    ")\n",
    "\n",
    "filtered <- RunTSNE(filtered, reduction = \"harmony\", verbose = FALSE, dims = 1:18)\n",
    "filtered <- RunUMAP(filtered, reduction = \"harmony\", verbose = FALSE, dims = 1:18)\n",
    "\n",
    "filtered <- FindNeighbors(filtered, reduction = \"harmony\", dims = 1:18)\n",
    "filtered <- FindClusters(object = filtered, resolution = 0.125)"
   ]
  },
  {
   "cell_type": "code",
   "execution_count": 29,
   "id": "7213c475",
   "metadata": {
    "ExecuteTime": {
     "end_time": "2023-11-15T08:54:51.220890Z",
     "start_time": "2023-11-15T08:54:40.577Z"
    }
   },
   "outputs": [],
   "source": [
    "seahorse <- readRDS('all_rna_filtered_harmony(1).rds')"
   ]
  },
  {
   "cell_type": "code",
   "execution_count": 30,
   "id": "432386c3",
   "metadata": {
    "ExecuteTime": {
     "end_time": "2023-11-15T08:54:51.246855Z",
     "start_time": "2023-11-15T08:54:42.487Z"
    },
    "scrolled": true
   },
   "outputs": [
    {
     "data": {
      "text/plain": [
       "\n",
       "   bf    ef    ep    lf    lp    mf    mp \n",
       "13214  4009  5298  6275  9864  6979 10395 "
      ]
     },
     "metadata": {},
     "output_type": "display_data"
    }
   ],
   "source": [
    "table(seahorse@meta.data$group)"
   ]
  },
  {
   "cell_type": "code",
   "execution_count": 77,
   "id": "8c0427a0",
   "metadata": {
    "ExecuteTime": {
     "end_time": "2025-04-01T08:16:12.857995Z",
     "start_time": "2025-04-01T08:16:07.023Z"
    }
   },
   "outputs": [],
   "source": [
    "new_ann  <- read.csv('./annotation new.csv', header =  F)"
   ]
  },
  {
   "cell_type": "code",
   "execution_count": 78,
   "id": "f279cf5f",
   "metadata": {
    "ExecuteTime": {
     "end_time": "2025-04-01T08:16:12.930059Z",
     "start_time": "2025-04-01T08:16:07.376Z"
    }
   },
   "outputs": [
    {
     "data": {
      "text/html": [
       "<table class=\"dataframe\">\n",
       "<caption>A data.frame: 6 × 2</caption>\n",
       "<thead>\n",
       "\t<tr><th></th><th scope=col>gene</th><th scope=col>genename</th></tr>\n",
       "\t<tr><th></th><th scope=col>&lt;chr&gt;</th><th scope=col>&lt;chr&gt;</th></tr>\n",
       "</thead>\n",
       "<tbody>\n",
       "\t<tr><th scope=row>1</th><td>EVM0007336</td><td>marchf1</td></tr>\n",
       "\t<tr><th scope=row>2</th><td>EVM0012606</td><td>march4 </td></tr>\n",
       "\t<tr><th scope=row>3</th><td>EVM0012556</td><td>march5 </td></tr>\n",
       "\t<tr><th scope=row>4</th><td>EVM0016597</td><td>march6 </td></tr>\n",
       "\t<tr><th scope=row>5</th><td>EVM0014793</td><td>march7 </td></tr>\n",
       "\t<tr><th scope=row>6</th><td>EVM0018149</td><td>march7 </td></tr>\n",
       "</tbody>\n",
       "</table>\n"
      ],
      "text/latex": [
       "A data.frame: 6 × 2\n",
       "\\begin{tabular}{r|ll}\n",
       "  & gene & genename\\\\\n",
       "  & <chr> & <chr>\\\\\n",
       "\\hline\n",
       "\t1 & EVM0007336 & marchf1\\\\\n",
       "\t2 & EVM0012606 & march4 \\\\\n",
       "\t3 & EVM0012556 & march5 \\\\\n",
       "\t4 & EVM0016597 & march6 \\\\\n",
       "\t5 & EVM0014793 & march7 \\\\\n",
       "\t6 & EVM0018149 & march7 \\\\\n",
       "\\end{tabular}\n"
      ],
      "text/markdown": [
       "\n",
       "A data.frame: 6 × 2\n",
       "\n",
       "| <!--/--> | gene &lt;chr&gt; | genename &lt;chr&gt; |\n",
       "|---|---|---|\n",
       "| 1 | EVM0007336 | marchf1 |\n",
       "| 2 | EVM0012606 | march4  |\n",
       "| 3 | EVM0012556 | march5  |\n",
       "| 4 | EVM0016597 | march6  |\n",
       "| 5 | EVM0014793 | march7  |\n",
       "| 6 | EVM0018149 | march7  |\n",
       "\n"
      ],
      "text/plain": [
       "  gene       genename\n",
       "1 EVM0007336 marchf1 \n",
       "2 EVM0012606 march4  \n",
       "3 EVM0012556 march5  \n",
       "4 EVM0016597 march6  \n",
       "5 EVM0014793 march7  \n",
       "6 EVM0018149 march7  "
      ]
     },
     "metadata": {},
     "output_type": "display_data"
    }
   ],
   "source": [
    "gene_dict <- data.frame(substring(new_ann$V1, 8, 17), new_ann$V6)\n",
    "colnames(gene_dict) <- c('gene','genename')\n",
    "head(gene_dict)"
   ]
  },
  {
   "cell_type": "code",
   "execution_count": 81,
   "id": "897395eb",
   "metadata": {
    "ExecuteTime": {
     "end_time": "2025-04-01T08:16:28.654968Z",
     "start_time": "2025-04-01T08:16:28.595Z"
    }
   },
   "outputs": [],
   "source": [
    "# 1. 根据gene_dict将allRNA中的基因进行注释\n",
    "# -----------------------------------------\n",
    "\n",
    "# 首先获取allRNA中的基因名列表（即当前的行名）\n",
    "current_genes <- rownames(allRNA)\n",
    "\n",
    "# 创建一个映射字典，用于基因ID到基因名的转换，便于快速查找\n",
    "gene_map <- setNames(gene_dict$genename, gene_dict$gene)\n",
    "\n",
    "# 找出能够被注释的基因索引（即在gene_dict中存在对应注释的基因）\n",
    "annotatable_idx <- which(current_genes %in% gene_dict$gene)\n",
    "\n",
    "# 创建新的基因名向量，初始为原始基因ID\n",
    "new_gene_names <- current_genes\n",
    "# 将能注释的基因ID替换为对应的基因名\n",
    "new_gene_names[annotatable_idx] <- gene_map[current_genes[annotatable_idx]]\n",
    "\n",
    "# 检查注释后是否有重复的基因名，这可能会导致Seurat对象出错\n",
    "if(any(duplicated(new_gene_names))) {\n",
    "  # 对于重复的基因名，添加原始基因ID作为后缀，确保唯一性\n",
    "  dup_indices <- which(duplicated(new_gene_names) | duplicated(new_gene_names, fromLast = TRUE))\n",
    "  new_gene_names[dup_indices] <- paste0(new_gene_names[dup_indices], \"_\", current_genes[dup_indices])\n",
    "}\n",
    "\n",
    "# 更新Seurat对象中RNA assay的基因名（原始计数矩阵）\n",
    "rownames(allRNA@assays$RNA@counts) <- new_gene_names\n",
    "# 更新Seurat对象中RNA assay的基因名（标准化后的数据矩阵）\n",
    "rownames(allRNA@assays$RNA@data) <- new_gene_names\n",
    "\n",
    "# 如果存在meta.features，也更新其行名\n",
    "if(!is.null(allRNA@assays$RNA@meta.features)) {\n",
    "  rownames(allRNA@assays$RNA@meta.features) <- new_gene_names\n",
    "}"
   ]
  },
  {
   "cell_type": "code",
   "execution_count": 83,
   "id": "787a7b92",
   "metadata": {
    "ExecuteTime": {
     "end_time": "2025-04-01T08:16:40.382113Z",
     "start_time": "2025-04-01T08:16:40.354Z"
    }
   },
   "outputs": [
    {
     "data": {
      "text/plain": [
       "Assay data with 19427 features for 78807 cells\n",
       "First 10 features:\n",
       " EVM0015536, mhc1uka_EVM0010492, mettl4_EVM0005304, emilin2b_EVM0006542,\n",
       "tap2a_EVM0000176, mhc1uka_EVM0017475, synrg_EVM0013420, CU861903.1,\n",
       "rsl1d1_EVM0016212, GSPT1_EVM0011260 "
      ]
     },
     "metadata": {},
     "output_type": "display_data"
    }
   ],
   "source": [
    "allRNA@assays$RNA"
   ]
  },
  {
   "cell_type": "markdown",
   "id": "ac0a74e2",
   "metadata": {},
   "source": [
    "# find ribo gene"
   ]
  },
  {
   "cell_type": "code",
   "execution_count": 234,
   "id": "6e073552",
   "metadata": {
    "ExecuteTime": {
     "end_time": "2025-04-02T06:21:24.361650Z",
     "start_time": "2025-04-02T06:21:24.333Z"
    }
   },
   "outputs": [],
   "source": [
    "# Find mitochondrial and ribosomal genes using common patterns\n",
    "#mito_pattern <- \"^MT-|^mt-|^Mt-|^MT|^mt[A-Za-z][^_]{3,}$\" # Mitochondrial gene pattern\n",
    "mito_pattern <- \"^MT-|^mt-|^Mt-|^(MT|mt)(CH|CL|ERF|FP|SS|ARC|US|ch|cl|erf|fp|ss|arc|us)\" # Mitochondrial gene pattern\n",
    "#mito_pattern <- \"^MT-|^mt-|^Mt-|^(MT|mt)(CH|CL|ERF|FP|ARC|ch|cl|erf|fp|arc)\" # Mitochondrial gene pattern\n",
    "ribo_pattern <- \"^RP[SL]|^Rp[sl]\" # Ribosomal gene pattern"
   ]
  },
  {
   "cell_type": "code",
   "execution_count": 235,
   "id": "80db8024",
   "metadata": {
    "ExecuteTime": {
     "end_time": "2025-04-02T06:21:26.709816Z",
     "start_time": "2025-04-02T06:21:26.665Z"
    }
   },
   "outputs": [],
   "source": [
    "# 2. 计算各个时期细胞的线粒体和核糖体基因相关信息\n",
    "# ----------------------------------------------\n",
    "\n",
    "# 找出线粒体基因（通常以MT-开头）\n",
    "# 在人类和小鼠数据中，线粒体基因通常以MT-或mt-开头\n",
    "mito_genes <- grep(pattern = mito_pattern, x = new_gene_names, value = TRUE)\n",
    "\n",
    "# 找出核糖体基因（通常以RPL或RPS开头）\n",
    "# 核糖体蛋白基因通常以RPL（大亚基）或RPS（小亚基）开头\n",
    "ribo_genes <- grep(pattern = ribo_pattern, x = new_gene_names, value = TRUE)"
   ]
  },
  {
   "cell_type": "code",
   "execution_count": 236,
   "id": "234514fc",
   "metadata": {
    "ExecuteTime": {
     "end_time": "2025-04-02T06:21:27.042151Z",
     "start_time": "2025-04-02T06:21:27.001Z"
    }
   },
   "outputs": [
    {
     "data": {
      "text/html": [
       "<style>\n",
       ".list-inline {list-style: none; margin:0; padding: 0}\n",
       ".list-inline>li {display: inline-block}\n",
       ".list-inline>li:not(:last-child)::after {content: \"\\00b7\"; padding: 0 .5ex}\n",
       "</style>\n",
       "<ol class=list-inline><li>'mterf3'</li><li>'mtus2a'</li><li>'mtss1'</li><li>'MTFP1'</li><li>'MTERF1'</li><li>'mtss1lb'</li><li>'MTERF4'</li><li>'MTCL1'</li><li>'mtus1b'</li><li>'MTSS1_EVM0008289'</li><li>'mterf2'</li><li>'mtss1la'</li><li>'MTARC2'</li><li>'MTMR4'</li><li>'MTSS1_EVM0007365'</li><li>'MTUS1'</li><li>'mtch2'</li><li>'MTCH1'</li><li>'MTUS2'</li></ol>\n"
      ],
      "text/latex": [
       "\\begin{enumerate*}\n",
       "\\item 'mterf3'\n",
       "\\item 'mtus2a'\n",
       "\\item 'mtss1'\n",
       "\\item 'MTFP1'\n",
       "\\item 'MTERF1'\n",
       "\\item 'mtss1lb'\n",
       "\\item 'MTERF4'\n",
       "\\item 'MTCL1'\n",
       "\\item 'mtus1b'\n",
       "\\item 'MTSS1\\_EVM0008289'\n",
       "\\item 'mterf2'\n",
       "\\item 'mtss1la'\n",
       "\\item 'MTARC2'\n",
       "\\item 'MTMR4'\n",
       "\\item 'MTSS1\\_EVM0007365'\n",
       "\\item 'MTUS1'\n",
       "\\item 'mtch2'\n",
       "\\item 'MTCH1'\n",
       "\\item 'MTUS2'\n",
       "\\end{enumerate*}\n"
      ],
      "text/markdown": [
       "1. 'mterf3'\n",
       "2. 'mtus2a'\n",
       "3. 'mtss1'\n",
       "4. 'MTFP1'\n",
       "5. 'MTERF1'\n",
       "6. 'mtss1lb'\n",
       "7. 'MTERF4'\n",
       "8. 'MTCL1'\n",
       "9. 'mtus1b'\n",
       "10. 'MTSS1_EVM0008289'\n",
       "11. 'mterf2'\n",
       "12. 'mtss1la'\n",
       "13. 'MTARC2'\n",
       "14. 'MTMR4'\n",
       "15. 'MTSS1_EVM0007365'\n",
       "16. 'MTUS1'\n",
       "17. 'mtch2'\n",
       "18. 'MTCH1'\n",
       "19. 'MTUS2'\n",
       "\n",
       "\n"
      ],
      "text/plain": [
       " [1] \"mterf3\"           \"mtus2a\"           \"mtss1\"            \"MTFP1\"           \n",
       " [5] \"MTERF1\"           \"mtss1lb\"          \"MTERF4\"           \"MTCL1\"           \n",
       " [9] \"mtus1b\"           \"MTSS1_EVM0008289\" \"mterf2\"           \"mtss1la\"         \n",
       "[13] \"MTARC2\"           \"MTMR4\"            \"MTSS1_EVM0007365\" \"MTUS1\"           \n",
       "[17] \"mtch2\"            \"MTCH1\"            \"MTUS2\"           "
      ]
     },
     "metadata": {},
     "output_type": "display_data"
    }
   ],
   "source": [
    "mito_genes"
   ]
  },
  {
   "cell_type": "code",
   "execution_count": 237,
   "id": "6325210a",
   "metadata": {
    "ExecuteTime": {
     "end_time": "2025-04-02T06:21:28.368767Z",
     "start_time": "2025-04-02T06:21:28.336Z"
    }
   },
   "outputs": [
    {
     "data": {
      "text/html": [
       "<style>\n",
       ".list-inline {list-style: none; margin:0; padding: 0}\n",
       ".list-inline>li {display: inline-block}\n",
       ".list-inline>li:not(:last-child)::after {content: \"\\00b7\"; padding: 0 .5ex}\n",
       "</style>\n",
       "<ol class=list-inline><li>'RPL3L'</li><li>'RPS11'</li><li>'RPS29'</li><li>'RPL7A'</li><li>'RPS27L'</li><li>'RPL5'</li><li>'RPS6KB2'</li><li>'RPL9'</li><li>'RPL27A'</li><li>'RPS20'</li><li>'RPL19'</li><li>'RPL22'</li><li>'RPS3'</li></ol>\n"
      ],
      "text/latex": [
       "\\begin{enumerate*}\n",
       "\\item 'RPL3L'\n",
       "\\item 'RPS11'\n",
       "\\item 'RPS29'\n",
       "\\item 'RPL7A'\n",
       "\\item 'RPS27L'\n",
       "\\item 'RPL5'\n",
       "\\item 'RPS6KB2'\n",
       "\\item 'RPL9'\n",
       "\\item 'RPL27A'\n",
       "\\item 'RPS20'\n",
       "\\item 'RPL19'\n",
       "\\item 'RPL22'\n",
       "\\item 'RPS3'\n",
       "\\end{enumerate*}\n"
      ],
      "text/markdown": [
       "1. 'RPL3L'\n",
       "2. 'RPS11'\n",
       "3. 'RPS29'\n",
       "4. 'RPL7A'\n",
       "5. 'RPS27L'\n",
       "6. 'RPL5'\n",
       "7. 'RPS6KB2'\n",
       "8. 'RPL9'\n",
       "9. 'RPL27A'\n",
       "10. 'RPS20'\n",
       "11. 'RPL19'\n",
       "12. 'RPL22'\n",
       "13. 'RPS3'\n",
       "\n",
       "\n"
      ],
      "text/plain": [
       " [1] \"RPL3L\"   \"RPS11\"   \"RPS29\"   \"RPL7A\"   \"RPS27L\"  \"RPL5\"    \"RPS6KB2\"\n",
       " [8] \"RPL9\"    \"RPL27A\"  \"RPS20\"   \"RPL19\"   \"RPL22\"   \"RPS3\"   "
      ]
     },
     "metadata": {},
     "output_type": "display_data"
    }
   ],
   "source": [
    "ribo_genes"
   ]
  },
  {
   "cell_type": "code",
   "execution_count": 238,
   "id": "286f6988",
   "metadata": {
    "ExecuteTime": {
     "end_time": "2025-04-02T06:21:49.400732Z",
     "start_time": "2025-04-02T06:21:38.822Z"
    }
   },
   "outputs": [],
   "source": [
    "# 计算每个细胞中线粒体基因表达的百分比\n",
    "# 这是一个重要的质控指标，高线粒体比例通常表示细胞质量差或细胞应激\n",
    "allRNA[[\"percent.mt\"]] <- PercentageFeatureSet(allRNA, features = mito_genes)\n",
    "\n",
    "# 计算每个细胞中核糖体基因表达的百分比\n",
    "# 核糖体基因比例也是一个重要质控指标，表示细胞转录活性\n",
    "allRNA[[\"percent.rb\"]] <- PercentageFeatureSet(allRNA, features = ribo_genes)\n",
    "\n",
    "# 确保nGenes和nUMIs列存在，如果不存在则从现有数据中获取\n",
    "# nGenes表示每个细胞检测到的基因数量\n",
    "# nUMIs表示每个细胞检测到的独特分子标识符总数\n",
    "allRNA[[\"nGenes\"]] <- allRNA$nFeature_RNA  # 在Seurat v3+中，这个列名是nFeature_RNA\n",
    "allRNA[[\"nUMIs\"]] <- allRNA$nCount_RNA     # 在Seurat v3+中，这个列名是nCount_RNA\n",
    "\n",
    "# 3. 汇总各个时期的质控信息\n",
    "# -----------------------\n",
    "\n",
    "# 获取所有时期（样本）列表\n",
    "time_periods <- unique(allRNA$orig.ident)\n",
    "\n",
    "# 初始化结果数据框，用于存储汇总统计信息\n",
    "qc_summary <- data.frame()\n",
    "\n",
    "# 按时期汇总质控信息\n",
    "for(period in time_periods) {\n",
    "  # 获取当前时期的细胞子集\n",
    "  cells_subset <- subset(allRNA, subset = orig.ident == period)\n",
    "  \n",
    "  # 计算当前时期的统计信息\n",
    "  period_stats <- data.frame(\n",
    "    Period = period,                                # 时期名称\n",
    "    Cell_Count = ncol(cells_subset),                # 细胞数量\n",
    "    Mean_nUMIs = mean(cells_subset$nUMIs),          # 平均UMI数\n",
    "    Median_nUMIs = median(cells_subset$nUMIs),      # UMI数中位数\n",
    "    SD_nUMIs = sd(cells_subset$nUMIs),              # UMI数标准差\n",
    "    Mean_nGenes = mean(cells_subset$nGenes),        # 平均基因数\n",
    "    Median_nGenes = median(cells_subset$nGenes),    # 基因数中位数\n",
    "    SD_nGenes = sd(cells_subset$nGenes),            # 基因数标准差\n",
    "    Mean_Percent_MT = mean(cells_subset$percent.mt), # 平均线粒体基因比例\n",
    "    Median_Percent_MT = median(cells_subset$percent.mt), # 线粒体基因比例中位数\n",
    "    SD_Percent_MT = sd(cells_subset$percent.mt),     # 线粒体基因比例标准差\n",
    "    Mean_Percent_RB = mean(cells_subset$percent.rb), # 平均核糖体基因比例\n",
    "    Median_Percent_RB = median(cells_subset$percent.rb), # 核糖体基因比例中位数\n",
    "    SD_Percent_RB = sd(cells_subset$percent.rb)      # 核糖体基因比例标准差\n",
    "  )\n",
    "  \n",
    "  # 将当前时期的统计信息添加到结果数据框\n",
    "  qc_summary <- rbind(qc_summary, period_stats)\n",
    "}\n"
   ]
  },
  {
   "cell_type": "code",
   "execution_count": 239,
   "id": "cb08564e",
   "metadata": {
    "ExecuteTime": {
     "end_time": "2025-04-02T06:21:49.451952Z",
     "start_time": "2025-04-02T06:21:39.081Z"
    }
   },
   "outputs": [
    {
     "data": {
      "text/html": [
       "<table class=\"dataframe\">\n",
       "<caption>A data.frame: 10 × 14</caption>\n",
       "<thead>\n",
       "\t<tr><th scope=col>Period</th><th scope=col>Cell_Count</th><th scope=col>Mean_nUMIs</th><th scope=col>Median_nUMIs</th><th scope=col>SD_nUMIs</th><th scope=col>Mean_nGenes</th><th scope=col>Median_nGenes</th><th scope=col>SD_nGenes</th><th scope=col>Mean_Percent_MT</th><th scope=col>Median_Percent_MT</th><th scope=col>SD_Percent_MT</th><th scope=col>Mean_Percent_RB</th><th scope=col>Median_Percent_RB</th><th scope=col>SD_Percent_RB</th></tr>\n",
       "\t<tr><th scope=col>&lt;chr&gt;</th><th scope=col>&lt;int&gt;</th><th scope=col>&lt;dbl&gt;</th><th scope=col>&lt;dbl&gt;</th><th scope=col>&lt;dbl&gt;</th><th scope=col>&lt;dbl&gt;</th><th scope=col>&lt;dbl&gt;</th><th scope=col>&lt;dbl&gt;</th><th scope=col>&lt;dbl&gt;</th><th scope=col>&lt;dbl&gt;</th><th scope=col>&lt;dbl&gt;</th><th scope=col>&lt;dbl&gt;</th><th scope=col>&lt;dbl&gt;</th><th scope=col>&lt;dbl&gt;</th></tr>\n",
       "</thead>\n",
       "<tbody>\n",
       "\t<tr><td>lf1</td><td> 5758</td><td>5665.546</td><td>2689.0</td><td>7707.784</td><td>1290.9941</td><td>993</td><td> 904.1998</td><td>0.02068110</td><td>0</td><td>0.03967890</td><td>1.262499</td><td>1.157340</td><td>1.0035160</td></tr>\n",
       "\t<tr><td>lf2</td><td> 2791</td><td>2468.463</td><td>1398.0</td><td>5142.893</td><td> 780.1777</td><td>587</td><td> 647.0952</td><td>0.01871232</td><td>0</td><td>0.04278031</td><td>1.836854</td><td>1.619778</td><td>1.1588488</td></tr>\n",
       "\t<tr><td>ep1</td><td> 7822</td><td>2458.059</td><td>1420.5</td><td>4274.846</td><td> 752.0895</td><td>576</td><td> 629.8406</td><td>0.01759961</td><td>0</td><td>0.04204159</td><td>1.167285</td><td>1.046512</td><td>0.7169507</td></tr>\n",
       "\t<tr><td>ep2</td><td> 9377</td><td>2223.132</td><td>1535.0</td><td>3428.099</td><td> 772.2018</td><td>593</td><td> 616.5739</td><td>0.01538071</td><td>0</td><td>0.03680537</td><td>1.271309</td><td>1.190476</td><td>0.6540458</td></tr>\n",
       "\t<tr><td>ef1</td><td> 2456</td><td>2046.223</td><td>1267.0</td><td>3200.138</td><td> 795.8384</td><td>669</td><td> 464.4649</td><td>0.04020782</td><td>0</td><td>0.06638277</td><td>1.713475</td><td>1.540457</td><td>0.9617154</td></tr>\n",
       "\t<tr><td>ef2</td><td> 2338</td><td>2312.809</td><td>1518.5</td><td>3038.812</td><td> 898.0483</td><td>701</td><td> 606.8157</td><td>0.04150977</td><td>0</td><td>0.07031811</td><td>1.283267</td><td>1.191035</td><td>0.7692368</td></tr>\n",
       "\t<tr><td>bf </td><td>14926</td><td>3175.430</td><td>1656.0</td><td>4913.819</td><td> 968.3547</td><td>762</td><td> 685.0468</td><td>0.02661486</td><td>0</td><td>0.04688028</td><td>1.713453</td><td>1.598335</td><td>0.8250858</td></tr>\n",
       "\t<tr><td>mf </td><td> 9253</td><td>4208.381</td><td>1764.0</td><td>6002.649</td><td>1221.7317</td><td>838</td><td> 999.2784</td><td>0.02102062</td><td>0</td><td>0.03956190</td><td>1.545301</td><td>1.449976</td><td>0.6849123</td></tr>\n",
       "\t<tr><td>mp </td><td>12330</td><td>6318.055</td><td>1754.0</td><td>9685.705</td><td>1249.3030</td><td>826</td><td>1034.9029</td><td>0.01905042</td><td>0</td><td>0.03956408</td><td>1.177872</td><td>1.054252</td><td>0.5521717</td></tr>\n",
       "\t<tr><td>lp </td><td>11756</td><td>6046.003</td><td>2055.0</td><td>8399.595</td><td>1248.4154</td><td>880</td><td> 964.9433</td><td>0.01575131</td><td>0</td><td>0.03437096</td><td>1.603012</td><td>1.428571</td><td>0.6878105</td></tr>\n",
       "</tbody>\n",
       "</table>\n"
      ],
      "text/latex": [
       "A data.frame: 10 × 14\n",
       "\\begin{tabular}{llllllllllllll}\n",
       " Period & Cell\\_Count & Mean\\_nUMIs & Median\\_nUMIs & SD\\_nUMIs & Mean\\_nGenes & Median\\_nGenes & SD\\_nGenes & Mean\\_Percent\\_MT & Median\\_Percent\\_MT & SD\\_Percent\\_MT & Mean\\_Percent\\_RB & Median\\_Percent\\_RB & SD\\_Percent\\_RB\\\\\n",
       " <chr> & <int> & <dbl> & <dbl> & <dbl> & <dbl> & <dbl> & <dbl> & <dbl> & <dbl> & <dbl> & <dbl> & <dbl> & <dbl>\\\\\n",
       "\\hline\n",
       "\t lf1 &  5758 & 5665.546 & 2689.0 & 7707.784 & 1290.9941 & 993 &  904.1998 & 0.02068110 & 0 & 0.03967890 & 1.262499 & 1.157340 & 1.0035160\\\\\n",
       "\t lf2 &  2791 & 2468.463 & 1398.0 & 5142.893 &  780.1777 & 587 &  647.0952 & 0.01871232 & 0 & 0.04278031 & 1.836854 & 1.619778 & 1.1588488\\\\\n",
       "\t ep1 &  7822 & 2458.059 & 1420.5 & 4274.846 &  752.0895 & 576 &  629.8406 & 0.01759961 & 0 & 0.04204159 & 1.167285 & 1.046512 & 0.7169507\\\\\n",
       "\t ep2 &  9377 & 2223.132 & 1535.0 & 3428.099 &  772.2018 & 593 &  616.5739 & 0.01538071 & 0 & 0.03680537 & 1.271309 & 1.190476 & 0.6540458\\\\\n",
       "\t ef1 &  2456 & 2046.223 & 1267.0 & 3200.138 &  795.8384 & 669 &  464.4649 & 0.04020782 & 0 & 0.06638277 & 1.713475 & 1.540457 & 0.9617154\\\\\n",
       "\t ef2 &  2338 & 2312.809 & 1518.5 & 3038.812 &  898.0483 & 701 &  606.8157 & 0.04150977 & 0 & 0.07031811 & 1.283267 & 1.191035 & 0.7692368\\\\\n",
       "\t bf  & 14926 & 3175.430 & 1656.0 & 4913.819 &  968.3547 & 762 &  685.0468 & 0.02661486 & 0 & 0.04688028 & 1.713453 & 1.598335 & 0.8250858\\\\\n",
       "\t mf  &  9253 & 4208.381 & 1764.0 & 6002.649 & 1221.7317 & 838 &  999.2784 & 0.02102062 & 0 & 0.03956190 & 1.545301 & 1.449976 & 0.6849123\\\\\n",
       "\t mp  & 12330 & 6318.055 & 1754.0 & 9685.705 & 1249.3030 & 826 & 1034.9029 & 0.01905042 & 0 & 0.03956408 & 1.177872 & 1.054252 & 0.5521717\\\\\n",
       "\t lp  & 11756 & 6046.003 & 2055.0 & 8399.595 & 1248.4154 & 880 &  964.9433 & 0.01575131 & 0 & 0.03437096 & 1.603012 & 1.428571 & 0.6878105\\\\\n",
       "\\end{tabular}\n"
      ],
      "text/markdown": [
       "\n",
       "A data.frame: 10 × 14\n",
       "\n",
       "| Period &lt;chr&gt; | Cell_Count &lt;int&gt; | Mean_nUMIs &lt;dbl&gt; | Median_nUMIs &lt;dbl&gt; | SD_nUMIs &lt;dbl&gt; | Mean_nGenes &lt;dbl&gt; | Median_nGenes &lt;dbl&gt; | SD_nGenes &lt;dbl&gt; | Mean_Percent_MT &lt;dbl&gt; | Median_Percent_MT &lt;dbl&gt; | SD_Percent_MT &lt;dbl&gt; | Mean_Percent_RB &lt;dbl&gt; | Median_Percent_RB &lt;dbl&gt; | SD_Percent_RB &lt;dbl&gt; |\n",
       "|---|---|---|---|---|---|---|---|---|---|---|---|---|---|\n",
       "| lf1 |  5758 | 5665.546 | 2689.0 | 7707.784 | 1290.9941 | 993 |  904.1998 | 0.02068110 | 0 | 0.03967890 | 1.262499 | 1.157340 | 1.0035160 |\n",
       "| lf2 |  2791 | 2468.463 | 1398.0 | 5142.893 |  780.1777 | 587 |  647.0952 | 0.01871232 | 0 | 0.04278031 | 1.836854 | 1.619778 | 1.1588488 |\n",
       "| ep1 |  7822 | 2458.059 | 1420.5 | 4274.846 |  752.0895 | 576 |  629.8406 | 0.01759961 | 0 | 0.04204159 | 1.167285 | 1.046512 | 0.7169507 |\n",
       "| ep2 |  9377 | 2223.132 | 1535.0 | 3428.099 |  772.2018 | 593 |  616.5739 | 0.01538071 | 0 | 0.03680537 | 1.271309 | 1.190476 | 0.6540458 |\n",
       "| ef1 |  2456 | 2046.223 | 1267.0 | 3200.138 |  795.8384 | 669 |  464.4649 | 0.04020782 | 0 | 0.06638277 | 1.713475 | 1.540457 | 0.9617154 |\n",
       "| ef2 |  2338 | 2312.809 | 1518.5 | 3038.812 |  898.0483 | 701 |  606.8157 | 0.04150977 | 0 | 0.07031811 | 1.283267 | 1.191035 | 0.7692368 |\n",
       "| bf  | 14926 | 3175.430 | 1656.0 | 4913.819 |  968.3547 | 762 |  685.0468 | 0.02661486 | 0 | 0.04688028 | 1.713453 | 1.598335 | 0.8250858 |\n",
       "| mf  |  9253 | 4208.381 | 1764.0 | 6002.649 | 1221.7317 | 838 |  999.2784 | 0.02102062 | 0 | 0.03956190 | 1.545301 | 1.449976 | 0.6849123 |\n",
       "| mp  | 12330 | 6318.055 | 1754.0 | 9685.705 | 1249.3030 | 826 | 1034.9029 | 0.01905042 | 0 | 0.03956408 | 1.177872 | 1.054252 | 0.5521717 |\n",
       "| lp  | 11756 | 6046.003 | 2055.0 | 8399.595 | 1248.4154 | 880 |  964.9433 | 0.01575131 | 0 | 0.03437096 | 1.603012 | 1.428571 | 0.6878105 |\n",
       "\n"
      ],
      "text/plain": [
       "   Period Cell_Count Mean_nUMIs Median_nUMIs SD_nUMIs Mean_nGenes Median_nGenes\n",
       "1  lf1     5758      5665.546   2689.0       7707.784 1290.9941   993          \n",
       "2  lf2     2791      2468.463   1398.0       5142.893  780.1777   587          \n",
       "3  ep1     7822      2458.059   1420.5       4274.846  752.0895   576          \n",
       "4  ep2     9377      2223.132   1535.0       3428.099  772.2018   593          \n",
       "5  ef1     2456      2046.223   1267.0       3200.138  795.8384   669          \n",
       "6  ef2     2338      2312.809   1518.5       3038.812  898.0483   701          \n",
       "7  bf     14926      3175.430   1656.0       4913.819  968.3547   762          \n",
       "8  mf      9253      4208.381   1764.0       6002.649 1221.7317   838          \n",
       "9  mp     12330      6318.055   1754.0       9685.705 1249.3030   826          \n",
       "10 lp     11756      6046.003   2055.0       8399.595 1248.4154   880          \n",
       "   SD_nGenes Mean_Percent_MT Median_Percent_MT SD_Percent_MT Mean_Percent_RB\n",
       "1   904.1998 0.02068110      0                 0.03967890    1.262499       \n",
       "2   647.0952 0.01871232      0                 0.04278031    1.836854       \n",
       "3   629.8406 0.01759961      0                 0.04204159    1.167285       \n",
       "4   616.5739 0.01538071      0                 0.03680537    1.271309       \n",
       "5   464.4649 0.04020782      0                 0.06638277    1.713475       \n",
       "6   606.8157 0.04150977      0                 0.07031811    1.283267       \n",
       "7   685.0468 0.02661486      0                 0.04688028    1.713453       \n",
       "8   999.2784 0.02102062      0                 0.03956190    1.545301       \n",
       "9  1034.9029 0.01905042      0                 0.03956408    1.177872       \n",
       "10  964.9433 0.01575131      0                 0.03437096    1.603012       \n",
       "   Median_Percent_RB SD_Percent_RB\n",
       "1  1.157340          1.0035160    \n",
       "2  1.619778          1.1588488    \n",
       "3  1.046512          0.7169507    \n",
       "4  1.190476          0.6540458    \n",
       "5  1.540457          0.9617154    \n",
       "6  1.191035          0.7692368    \n",
       "7  1.598335          0.8250858    \n",
       "8  1.449976          0.6849123    \n",
       "9  1.054252          0.5521717    \n",
       "10 1.428571          0.6878105    "
      ]
     },
     "metadata": {},
     "output_type": "display_data"
    }
   ],
   "source": [
    "qc_summary"
   ]
  },
  {
   "cell_type": "markdown",
   "id": "e9b301df",
   "metadata": {},
   "source": [
    "# plot"
   ]
  },
  {
   "cell_type": "code",
   "execution_count": 231,
   "id": "ee96f46f",
   "metadata": {
    "ExecuteTime": {
     "end_time": "2025-04-02T06:20:45.310486Z",
     "start_time": "2025-04-02T06:20:45.235Z"
    }
   },
   "outputs": [],
   "source": [
    "# 将Seurat对象的元数据转换为数据框，方便使用ggplot2进行绘图\n",
    "cell_metadata <- allRNA@meta.data\n",
    "cell_metadata$CellID <- rownames(cell_metadata)  # 添加细胞ID列\n",
    "\n",
    "# 创建与图中完全相同的标签映射（i, ii-1, ii-2, iii, iv-1, iv-2, v-1, v-2, vi, vii）\n",
    "# 将原始的时期名称映射到图中显示的标签\n",
    "label_map <- c(\n",
    "  \"bf\" = \"i\",\n",
    "  \"ef1\" = \"ii-1\", \n",
    "  \"ef2\" = \"ii-2\", \n",
    "  \"ep1\" = \"iii\", \n",
    "  \"ep2\" = \"iv-1\", \n",
    "  \"lf1\" = \"iv-2\", \n",
    "  \"lf2\" = \"v-1\", \n",
    "  \"lp\" = \"v-2\", \n",
    "  \"mf\" = \"vi\", \n",
    "  \"mp\" = \"vii\"\n",
    ")\n",
    "\n",
    "# 将orig.ident转换为图中使用的标签\n",
    "cell_metadata$plot_label <- label_map[cell_metadata$orig.ident]\n",
    "\n",
    "# 创建分组信息，用于添加背景颜色\n",
    "# 根据图示，前6个时期（i到iv-2）为一组，后4个时期（v-1到vii）为一组\n",
    "cell_metadata$group <- ifelse(\n",
    "  cell_metadata$orig.ident %in% c(\"bf\", \"ef1\", \"ef2\", \"ep1\", \"ep2\", \"lf1\"),\n",
    "  \"Group1\", \"Group2\"\n",
    ")\n",
    "\n",
    "# 创建排序好的标签因子\n",
    "period_labels <- c(\"i\", \"ii-1\", \"ii-2\", \"iii\", \"iv-1\", \"iv-2\", \"v-1\", \"v-2\", \"vi\", \"vii\")\n",
    "cell_metadata$plot_label <- factor(cell_metadata$plot_label, levels = period_labels)\n",
    "\n",
    "# 定义更接近参考图的低饱和度颜色\n",
    "plot_colors <- c(\n",
    "  \"i\" = \"#FF9999\",       # 淡红色\n",
    "  \"ii-1\" = \"#FFCC99\",    # 淡橙色\n",
    "  \"ii-2\" = \"#DDFFAA\",    # 淡黄绿色\n",
    "  \"iii\" = \"#E6D0E6\",     # 更淡的淡紫色\n",
    "  \"iv-1\" = \"#99E6E6\",    # 淡青色\n",
    "  \"iv-2\" = \"#BBDDFF\",    # 淡蓝色\n",
    "  \"v-1\" = \"#CCFFCC\",     # 淡绿色\n",
    "  \"v-2\" = \"#B3E6E6\",     # 淡青绿色\n",
    "  \"vi\" = \"#FFCCEB\",      # 淡粉色\n",
    "  \"vii\" = \"#D6E0F0\"      # 淡蓝灰色\n",
    ")\n",
    "\n",
    "# 定义描边颜色，略深于填充色\n",
    "stroke_colors <- c(\n",
    "  \"i\" = \"#CC6666\",       # 深红色\n",
    "  \"ii-1\" = \"#CC9966\",    # 深橙色\n",
    "  \"ii-2\" = \"#AACC77\",    # 深黄绿色\n",
    "  \"iii\" = \"#BBA0BB\",     # 深紫色\n",
    "  \"iv-1\" = \"#66AAAA\",    # 深青色\n",
    "  \"iv-2\" = \"#88AACC\",    # 深蓝色\n",
    "  \"v-1\" = \"#99CC99\",     # 深绿色\n",
    "  \"v-2\" = \"#77AAAA\",     # 深青绿色\n",
    "  \"vi\" = \"#CC99BB\",      # 深粉色\n",
    "  \"vii\" = \"#99AACC\"      # 深蓝灰色\n",
    ")\n"
   ]
  },
  {
   "cell_type": "code",
   "execution_count": 256,
   "id": "8cc5ed47",
   "metadata": {
    "ExecuteTime": {
     "end_time": "2025-04-02T06:38:04.273154Z",
     "start_time": "2025-04-02T06:38:02.567Z"
    }
   },
   "outputs": [],
   "source": [
    "# 将汇总结果保存为CSV文件，便于后续分析和共享\n",
    "write.csv(cell_metadata, file = \"seahorse_cell_metadata_with_ribo_mito.csv\", row.names = FALSE)"
   ]
  },
  {
   "cell_type": "code",
   "execution_count": 250,
   "id": "75aed09c",
   "metadata": {
    "ExecuteTime": {
     "end_time": "2025-04-02T06:27:28.419603Z",
     "start_time": "2025-04-02T06:27:28.320Z"
    }
   },
   "outputs": [],
   "source": [
    "nature_theme <- theme_minimal() +\n",
    "  theme(\n",
    "    # 轴线设置 - 添加可见坐标轴\n",
    "    axis.line = element_line(color = \"black\", size = 0.5),\n",
    "    axis.ticks.y = element_line(color = \"black\", size = 0.5),\n",
    "    axis.ticks.length = unit(2, \"mm\"),\n",
    "    \n",
    "    # 隐藏x轴文字和标签\n",
    "    axis.text.x = element_text(color = \"black\", size = 10, face = \"bold\"),\n",
    "    axis.title.x = element_blank(),\n",
    "    \n",
    "    # 加深y轴文字\n",
    "    axis.text.y = element_text(color = \"black\", size = 10, face = \"bold\"),\n",
    "    axis.title.y = element_text(color = \"black\", size = 11, face = \"bold\"),\n",
    "    \n",
    "    # 移除网格线和边框\n",
    "    panel.grid = element_blank(),\n",
    "    panel.border = element_blank(),\n",
    "    \n",
    "    # 其他设置\n",
    "    legend.position = \"none\",\n",
    "    plot.background = element_rect(fill = \"transparent\", color = NA),\n",
    "    panel.background = element_rect(fill = \"transparent\", color = NA),\n",
    "    \n",
    "    # 适当的边距\n",
    "    plot.margin = unit(c(0.5, 1, 0.5, 1), \"cm\")\n",
    "  )\n",
    "\n",
    "# 创建线粒体基因比例的小提琴图\n",
    "p1 <- ggplot() +\n",
    "  # 添加小提琴图，使用深色描边\n",
    "  geom_violin(data = cell_metadata, \n",
    "              aes(x = plot_label, y = percent.mt, fill = plot_label, color = plot_label),\n",
    "              scale = \"width\", trim = TRUE, \n",
    "              size = 0.7, alpha = 0.7) +  # 设置描边粗细和透明度\n",
    "  # 使用简洁主题作为基础\n",
    "  nature_theme +\n",
    "  # 精细调整主题\n",
    "  theme(\n",
    "    axis.title.x = element_blank(),           # 隐藏x轴标题\n",
    "    axis.text.x = element_text(size = 10),    # x轴文本大小\n",
    "    axis.title.y = element_text(size = 11),   # y轴标题大小\n",
    "    panel.grid = element_blank(),             # 删除网格线\n",
    "    panel.border = element_blank(),           # 删除边框\n",
    "    legend.position = \"none\",                 # 隐藏图例\n",
    "    plot.background = element_rect(fill = \"transparent\", color = NA), # 透明背景\n",
    "    panel.background = element_rect(fill = \"transparent\", color = NA) # 透明面板\n",
    "  ) +\n",
    "  # 设置y轴标签\n",
    "  labs(y = \"% MT\") +\n",
    "  # 使用低饱和度颜色填充\n",
    "  scale_fill_manual(values = plot_colors) +\n",
    "  # 使用更深的颜色描边\n",
    "  scale_color_manual(values = stroke_colors)\n",
    "\n",
    "# 创建核糖体基因比例的小提琴图\n",
    "p2 <- ggplot() +\n",
    "  # 添加小提琴图，使用深色描边\n",
    "  geom_violin(data = cell_metadata, \n",
    "              aes(x = plot_label, y = percent.rb, fill = plot_label, color = plot_label),\n",
    "              scale = \"width\", trim = TRUE, \n",
    "              size = 0.7, alpha = 0.7) +  # 设置描边粗细和透明度\n",
    "  # 使用简洁主题作为基础\n",
    "  nature_theme +\n",
    "  # 精细调整主题\n",
    "  theme(\n",
    "    axis.title.x = element_blank(),           # 隐藏x轴标题\n",
    "    axis.text.x = element_text(size = 10),    # x轴文本大小\n",
    "    axis.title.y = element_text(size = 11),   # y轴标题大小\n",
    "    panel.grid = element_blank(),             # 删除网格线\n",
    "    panel.border = element_blank(),           # 删除边框\n",
    "    legend.position = \"none\",                 # 隐藏图例\n",
    "    plot.background = element_rect(fill = \"transparent\", color = NA), # 透明背景\n",
    "    panel.background = element_rect(fill = \"transparent\", color = NA) # 透明面板\n",
    "  ) +\n",
    "  # 设置y轴标签\n",
    "  labs(y = \"% RB\") +\n",
    "  # 使用低饱和度颜色填充\n",
    "  scale_fill_manual(values = plot_colors) +\n",
    "  # 使用更深的颜色描边\n",
    "  scale_color_manual(values = stroke_colors)\n",
    "\n",
    "# 使用patchwork包垂直组合nUMIs和nGenes图\n",
    "combined_plot <- p1 / p2 "
   ]
  },
  {
   "cell_type": "code",
   "execution_count": 251,
   "id": "762165f8",
   "metadata": {
    "ExecuteTime": {
     "end_time": "2025-04-02T06:27:30.271097Z",
     "start_time": "2025-04-02T06:27:28.950Z"
    }
   },
   "outputs": [
    {
     "data": {
      "image/png": "[encoded data removed]",
      "text/plain": [
       "plot without title"
      ]
     },
     "metadata": {
      "image/png": {
       "height": 420,
       "width": 420
      }
     },
     "output_type": "display_data"
    }
   ],
   "source": [
    "combined_plot"
   ]
  },
  {
   "cell_type": "code",
   "execution_count": 257,
   "id": "803baad3",
   "metadata": {
    "ExecuteTime": {
     "end_time": "2025-04-02T06:39:22.083059Z",
     "start_time": "2025-04-02T06:39:21.256Z"
    }
   },
   "outputs": [],
   "source": [
    "# 保存为高质量图形\n",
    "ggsave(\"seahorse_mito_ribo_vioplot.pdf\", combined_plot, width = 180, height = 120, units = \"mm\", dpi = 600, bg = \"transparent\")"
   ]
  },
  {
   "cell_type": "code",
   "execution_count": null,
   "id": "0002ebbb",
   "metadata": {},
   "outputs": [],
   "source": []
  }
 ],
 "metadata": {
  "kernelspec": {
   "display_name": "R [conda env:.conda-R4]",
   "language": "R",
   "name": "conda-env-.conda-R4-r"
  },
  "language_info": {
   "codemirror_mode": "r",
   "file_extension": ".r",
   "mimetype": "text/x-r-source",
   "name": "R",
   "pygments_lexer": "r",
   "version": "4.1.3"
  },
  "toc": {
   "base_numbering": 1,
   "nav_menu": {},
   "number_sections": true,
   "sideBar": true,
   "skip_h1_title": false,
   "title_cell": "Table of Contents",
   "title_sidebar": "Contents",
   "toc_cell": false,
   "toc_position": {},
   "toc_section_display": true,
   "toc_window_display": false
  }
 },
 "nbformat": 4,
 "nbformat_minor": 5
}
